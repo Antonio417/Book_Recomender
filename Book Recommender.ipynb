{
 "cells": [
  {
   "cell_type": "code",
   "execution_count": 1,
   "id": "4c6cca72",
   "metadata": {},
   "outputs": [],
   "source": [
    "import numpy as np\n",
    "import pandas as pd\n",
    "import warnings\n",
    "warnings.filterwarnings('ignore')"
   ]
  },
  {
   "cell_type": "markdown",
   "id": "fa10786c",
   "metadata": {},
   "source": [
    "## Importing Datasets"
   ]
  },
  {
   "cell_type": "code",
   "execution_count": 2,
   "id": "b775173e",
   "metadata": {},
   "outputs": [],
   "source": [
    "books = pd.read_csv('data/books.csv')\n",
    "users = pd.read_csv('data/users.csv')\n",
    "ratings = pd.read_csv('data/ratings.csv')"
   ]
  },
  {
   "cell_type": "code",
   "execution_count": 3,
   "id": "da8ac637",
   "metadata": {},
   "outputs": [
    {
     "data": {
      "text/html": [
       "<div>\n",
       "<style scoped>\n",
       "    .dataframe tbody tr th:only-of-type {\n",
       "        vertical-align: middle;\n",
       "    }\n",
       "\n",
       "    .dataframe tbody tr th {\n",
       "        vertical-align: top;\n",
       "    }\n",
       "\n",
       "    .dataframe thead th {\n",
       "        text-align: right;\n",
       "    }\n",
       "</style>\n",
       "<table border=\"1\" class=\"dataframe\">\n",
       "  <thead>\n",
       "    <tr style=\"text-align: right;\">\n",
       "      <th></th>\n",
       "      <th>ISBN</th>\n",
       "      <th>Book-Title</th>\n",
       "      <th>Book-Author</th>\n",
       "      <th>Year-Of-Publication</th>\n",
       "      <th>Publisher</th>\n",
       "      <th>Image-URL-S</th>\n",
       "      <th>Image-URL-M</th>\n",
       "      <th>Image-URL-L</th>\n",
       "    </tr>\n",
       "  </thead>\n",
       "  <tbody>\n",
       "    <tr>\n",
       "      <th>0</th>\n",
       "      <td>0195153448</td>\n",
       "      <td>Classical Mythology</td>\n",
       "      <td>Mark P. O. Morford</td>\n",
       "      <td>2002</td>\n",
       "      <td>Oxford University Press</td>\n",
       "      <td>http://images.amazon.com/images/P/0195153448.0...</td>\n",
       "      <td>http://images.amazon.com/images/P/0195153448.0...</td>\n",
       "      <td>http://images.amazon.com/images/P/0195153448.0...</td>\n",
       "    </tr>\n",
       "    <tr>\n",
       "      <th>1</th>\n",
       "      <td>0002005018</td>\n",
       "      <td>Clara Callan</td>\n",
       "      <td>Richard Bruce Wright</td>\n",
       "      <td>2001</td>\n",
       "      <td>HarperFlamingo Canada</td>\n",
       "      <td>http://images.amazon.com/images/P/0002005018.0...</td>\n",
       "      <td>http://images.amazon.com/images/P/0002005018.0...</td>\n",
       "      <td>http://images.amazon.com/images/P/0002005018.0...</td>\n",
       "    </tr>\n",
       "    <tr>\n",
       "      <th>2</th>\n",
       "      <td>0060973129</td>\n",
       "      <td>Decision in Normandy</td>\n",
       "      <td>Carlo D'Este</td>\n",
       "      <td>1991</td>\n",
       "      <td>HarperPerennial</td>\n",
       "      <td>http://images.amazon.com/images/P/0060973129.0...</td>\n",
       "      <td>http://images.amazon.com/images/P/0060973129.0...</td>\n",
       "      <td>http://images.amazon.com/images/P/0060973129.0...</td>\n",
       "    </tr>\n",
       "    <tr>\n",
       "      <th>3</th>\n",
       "      <td>0374157065</td>\n",
       "      <td>Flu: The Story of the Great Influenza Pandemic...</td>\n",
       "      <td>Gina Bari Kolata</td>\n",
       "      <td>1999</td>\n",
       "      <td>Farrar Straus Giroux</td>\n",
       "      <td>http://images.amazon.com/images/P/0374157065.0...</td>\n",
       "      <td>http://images.amazon.com/images/P/0374157065.0...</td>\n",
       "      <td>http://images.amazon.com/images/P/0374157065.0...</td>\n",
       "    </tr>\n",
       "    <tr>\n",
       "      <th>4</th>\n",
       "      <td>0393045218</td>\n",
       "      <td>The Mummies of Urumchi</td>\n",
       "      <td>E. J. W. Barber</td>\n",
       "      <td>1999</td>\n",
       "      <td>W. W. Norton &amp;amp; Company</td>\n",
       "      <td>http://images.amazon.com/images/P/0393045218.0...</td>\n",
       "      <td>http://images.amazon.com/images/P/0393045218.0...</td>\n",
       "      <td>http://images.amazon.com/images/P/0393045218.0...</td>\n",
       "    </tr>\n",
       "  </tbody>\n",
       "</table>\n",
       "</div>"
      ],
      "text/plain": [
       "         ISBN                                         Book-Title  \\\n",
       "0  0195153448                                Classical Mythology   \n",
       "1  0002005018                                       Clara Callan   \n",
       "2  0060973129                               Decision in Normandy   \n",
       "3  0374157065  Flu: The Story of the Great Influenza Pandemic...   \n",
       "4  0393045218                             The Mummies of Urumchi   \n",
       "\n",
       "            Book-Author Year-Of-Publication                   Publisher  \\\n",
       "0    Mark P. O. Morford                2002     Oxford University Press   \n",
       "1  Richard Bruce Wright                2001       HarperFlamingo Canada   \n",
       "2          Carlo D'Este                1991             HarperPerennial   \n",
       "3      Gina Bari Kolata                1999        Farrar Straus Giroux   \n",
       "4       E. J. W. Barber                1999  W. W. Norton &amp; Company   \n",
       "\n",
       "                                         Image-URL-S  \\\n",
       "0  http://images.amazon.com/images/P/0195153448.0...   \n",
       "1  http://images.amazon.com/images/P/0002005018.0...   \n",
       "2  http://images.amazon.com/images/P/0060973129.0...   \n",
       "3  http://images.amazon.com/images/P/0374157065.0...   \n",
       "4  http://images.amazon.com/images/P/0393045218.0...   \n",
       "\n",
       "                                         Image-URL-M  \\\n",
       "0  http://images.amazon.com/images/P/0195153448.0...   \n",
       "1  http://images.amazon.com/images/P/0002005018.0...   \n",
       "2  http://images.amazon.com/images/P/0060973129.0...   \n",
       "3  http://images.amazon.com/images/P/0374157065.0...   \n",
       "4  http://images.amazon.com/images/P/0393045218.0...   \n",
       "\n",
       "                                         Image-URL-L  \n",
       "0  http://images.amazon.com/images/P/0195153448.0...  \n",
       "1  http://images.amazon.com/images/P/0002005018.0...  \n",
       "2  http://images.amazon.com/images/P/0060973129.0...  \n",
       "3  http://images.amazon.com/images/P/0374157065.0...  \n",
       "4  http://images.amazon.com/images/P/0393045218.0...  "
      ]
     },
     "execution_count": 3,
     "metadata": {},
     "output_type": "execute_result"
    }
   ],
   "source": [
    "books.head()"
   ]
  },
  {
   "cell_type": "code",
   "execution_count": 4,
   "id": "c6a0fb7b",
   "metadata": {},
   "outputs": [
    {
     "data": {
      "text/html": [
       "<div>\n",
       "<style scoped>\n",
       "    .dataframe tbody tr th:only-of-type {\n",
       "        vertical-align: middle;\n",
       "    }\n",
       "\n",
       "    .dataframe tbody tr th {\n",
       "        vertical-align: top;\n",
       "    }\n",
       "\n",
       "    .dataframe thead th {\n",
       "        text-align: right;\n",
       "    }\n",
       "</style>\n",
       "<table border=\"1\" class=\"dataframe\">\n",
       "  <thead>\n",
       "    <tr style=\"text-align: right;\">\n",
       "      <th></th>\n",
       "      <th>User-ID</th>\n",
       "      <th>Location</th>\n",
       "      <th>Age</th>\n",
       "    </tr>\n",
       "  </thead>\n",
       "  <tbody>\n",
       "    <tr>\n",
       "      <th>0</th>\n",
       "      <td>1</td>\n",
       "      <td>nyc, new york, usa</td>\n",
       "      <td>NaN</td>\n",
       "    </tr>\n",
       "    <tr>\n",
       "      <th>1</th>\n",
       "      <td>2</td>\n",
       "      <td>stockton, california, usa</td>\n",
       "      <td>18.0</td>\n",
       "    </tr>\n",
       "    <tr>\n",
       "      <th>2</th>\n",
       "      <td>3</td>\n",
       "      <td>moscow, yukon territory, russia</td>\n",
       "      <td>NaN</td>\n",
       "    </tr>\n",
       "    <tr>\n",
       "      <th>3</th>\n",
       "      <td>4</td>\n",
       "      <td>porto, v.n.gaia, portugal</td>\n",
       "      <td>17.0</td>\n",
       "    </tr>\n",
       "    <tr>\n",
       "      <th>4</th>\n",
       "      <td>5</td>\n",
       "      <td>farnborough, hants, united kingdom</td>\n",
       "      <td>NaN</td>\n",
       "    </tr>\n",
       "  </tbody>\n",
       "</table>\n",
       "</div>"
      ],
      "text/plain": [
       "   User-ID                            Location   Age\n",
       "0        1                  nyc, new york, usa   NaN\n",
       "1        2           stockton, california, usa  18.0\n",
       "2        3     moscow, yukon territory, russia   NaN\n",
       "3        4           porto, v.n.gaia, portugal  17.0\n",
       "4        5  farnborough, hants, united kingdom   NaN"
      ]
     },
     "execution_count": 4,
     "metadata": {},
     "output_type": "execute_result"
    }
   ],
   "source": [
    "users.head()"
   ]
  },
  {
   "cell_type": "code",
   "execution_count": 5,
   "id": "a930bd58",
   "metadata": {},
   "outputs": [
    {
     "data": {
      "text/html": [
       "<div>\n",
       "<style scoped>\n",
       "    .dataframe tbody tr th:only-of-type {\n",
       "        vertical-align: middle;\n",
       "    }\n",
       "\n",
       "    .dataframe tbody tr th {\n",
       "        vertical-align: top;\n",
       "    }\n",
       "\n",
       "    .dataframe thead th {\n",
       "        text-align: right;\n",
       "    }\n",
       "</style>\n",
       "<table border=\"1\" class=\"dataframe\">\n",
       "  <thead>\n",
       "    <tr style=\"text-align: right;\">\n",
       "      <th></th>\n",
       "      <th>User-ID</th>\n",
       "      <th>ISBN</th>\n",
       "      <th>Book-Rating</th>\n",
       "    </tr>\n",
       "  </thead>\n",
       "  <tbody>\n",
       "    <tr>\n",
       "      <th>0</th>\n",
       "      <td>276725</td>\n",
       "      <td>034545104X</td>\n",
       "      <td>0</td>\n",
       "    </tr>\n",
       "    <tr>\n",
       "      <th>1</th>\n",
       "      <td>276726</td>\n",
       "      <td>0155061224</td>\n",
       "      <td>5</td>\n",
       "    </tr>\n",
       "    <tr>\n",
       "      <th>2</th>\n",
       "      <td>276727</td>\n",
       "      <td>0446520802</td>\n",
       "      <td>0</td>\n",
       "    </tr>\n",
       "    <tr>\n",
       "      <th>3</th>\n",
       "      <td>276729</td>\n",
       "      <td>052165615X</td>\n",
       "      <td>3</td>\n",
       "    </tr>\n",
       "    <tr>\n",
       "      <th>4</th>\n",
       "      <td>276729</td>\n",
       "      <td>0521795028</td>\n",
       "      <td>6</td>\n",
       "    </tr>\n",
       "  </tbody>\n",
       "</table>\n",
       "</div>"
      ],
      "text/plain": [
       "   User-ID        ISBN  Book-Rating\n",
       "0   276725  034545104X            0\n",
       "1   276726  0155061224            5\n",
       "2   276727  0446520802            0\n",
       "3   276729  052165615X            3\n",
       "4   276729  0521795028            6"
      ]
     },
     "execution_count": 5,
     "metadata": {},
     "output_type": "execute_result"
    }
   ],
   "source": [
    "ratings.head()"
   ]
  },
  {
   "cell_type": "markdown",
   "id": "86726fa9",
   "metadata": {},
   "source": [
    "## Cleaning Datasets"
   ]
  },
  {
   "cell_type": "code",
   "execution_count": 6,
   "id": "23c23bf5",
   "metadata": {},
   "outputs": [
    {
     "name": "stdout",
     "output_type": "stream",
     "text": [
      "Books:\n",
      "\n",
      " ISBN                   0\n",
      "Book-Title             0\n",
      "Book-Author            1\n",
      "Year-Of-Publication    0\n",
      "Publisher              2\n",
      "Image-URL-S            0\n",
      "Image-URL-M            0\n",
      "Image-URL-L            3\n",
      "dtype: int64\n",
      "-----------------------------------\n",
      "Users:\n",
      "\n",
      " User-ID          0\n",
      "Location         0\n",
      "Age         110762\n",
      "dtype: int64\n",
      "-----------------------------------\n",
      "Ratings\n",
      "\n",
      " User-ID        0\n",
      "ISBN           0\n",
      "Book-Rating    0\n",
      "dtype: int64\n",
      "-----------------------------------\n"
     ]
    }
   ],
   "source": [
    "print(\"Books:\\n\\n\",books.isnull().sum())\n",
    "print(\"-----------------------------------\")\n",
    "print(\"Users:\\n\\n\",users.isnull().sum())\n",
    "print(\"-----------------------------------\")\n",
    "print(\"Ratings\\n\\n\",ratings.isnull().sum())\n",
    "print(\"-----------------------------------\")"
   ]
  },
  {
   "cell_type": "code",
   "execution_count": 7,
   "id": "5c5833ae",
   "metadata": {},
   "outputs": [
    {
     "name": "stdout",
     "output_type": "stream",
     "text": [
      "0\n",
      "0\n",
      "0\n"
     ]
    }
   ],
   "source": [
    "print(books.duplicated().sum())\n",
    "print(users.duplicated().sum())\n",
    "print(ratings.duplicated().sum())"
   ]
  },
  {
   "cell_type": "code",
   "execution_count": 8,
   "id": "a0788c1e",
   "metadata": {},
   "outputs": [
    {
     "name": "stdout",
     "output_type": "stream",
     "text": [
      "(271360, 8)\n",
      "(278858, 3)\n",
      "(1149780, 3)\n"
     ]
    }
   ],
   "source": [
    "print(books.shape)\n",
    "print(users.shape)\n",
    "print(ratings.shape)"
   ]
  },
  {
   "cell_type": "markdown",
   "id": "18aab25e",
   "metadata": {},
   "source": [
    "## Popularity Based Reccommender"
   ]
  },
  {
   "cell_type": "code",
   "execution_count": 9,
   "id": "fdc1a123",
   "metadata": {},
   "outputs": [],
   "source": [
    "ratings_name = ratings.merge(books,on=\"ISBN\")"
   ]
  },
  {
   "cell_type": "code",
   "execution_count": 10,
   "id": "e5265346",
   "metadata": {},
   "outputs": [
    {
     "name": "stdout",
     "output_type": "stream",
     "text": [
      "                                               Book-Title  num_ratings\n",
      "0        A Light in the Storm: The Civil War Diary of ...            4\n",
      "1                                   Always Have Popsicles            1\n",
      "2                    Apple Magic (The Collector's series)            1\n",
      "3        Ask Lily (Young Women of Faith: Lily Series, ...            1\n",
      "4        Beyond IBM: Leadership Marketing and Finance ...            1\n",
      "...                                                   ...          ...\n",
      "241066                                      Ã?Â?lpiraten.            2\n",
      "241067                     Ã?Â?rger mit Produkt X. Roman.            4\n",
      "241068                                Ã?Â?sterlich leben.            1\n",
      "241069                              Ã?Â?stlich der Berge.            3\n",
      "241070                                  Ã?Â?thique en toc            2\n",
      "\n",
      "[241071 rows x 2 columns]\n"
     ]
    }
   ],
   "source": [
    "# Adding number of rating in the dataframe\n",
    "num_rating = ratings_name.groupby('Book-Title').count()['Book-Rating'].reset_index()\n",
    "num_rating.rename(columns={'Book-Rating':'num_ratings'},inplace = True)\n",
    "print(num_rating)"
   ]
  },
  {
   "cell_type": "code",
   "execution_count": 11,
   "id": "850f4dda",
   "metadata": {},
   "outputs": [
    {
     "name": "stdout",
     "output_type": "stream",
     "text": [
      "                                               Book-Title  avg_ratings\n",
      "0        A Light in the Storm: The Civil War Diary of ...     2.250000\n",
      "1                                   Always Have Popsicles     0.000000\n",
      "2                    Apple Magic (The Collector's series)     0.000000\n",
      "3        Ask Lily (Young Women of Faith: Lily Series, ...     8.000000\n",
      "4        Beyond IBM: Leadership Marketing and Finance ...     0.000000\n",
      "...                                                   ...          ...\n",
      "241066                                      Ã?Â?lpiraten.     0.000000\n",
      "241067                     Ã?Â?rger mit Produkt X. Roman.     5.250000\n",
      "241068                                Ã?Â?sterlich leben.     7.000000\n",
      "241069                              Ã?Â?stlich der Berge.     2.666667\n",
      "241070                                  Ã?Â?thique en toc     4.000000\n",
      "\n",
      "[241071 rows x 2 columns]\n"
     ]
    }
   ],
   "source": [
    "# Adding avgber of rating in the dataframe\n",
    "avg_rating = ratings_name.groupby('Book-Title').mean()['Book-Rating'].reset_index()\n",
    "avg_rating.rename(columns={'Book-Rating':'avg_ratings'},inplace = True)\n",
    "print(avg_rating)"
   ]
  },
  {
   "cell_type": "code",
   "execution_count": 12,
   "id": "ba285d88",
   "metadata": {},
   "outputs": [
    {
     "name": "stdout",
     "output_type": "stream",
     "text": [
      "                                               Book-Title  num_ratings  \\\n",
      "0        A Light in the Storm: The Civil War Diary of ...            4   \n",
      "1                                   Always Have Popsicles            1   \n",
      "2                    Apple Magic (The Collector's series)            1   \n",
      "3        Ask Lily (Young Women of Faith: Lily Series, ...            1   \n",
      "4        Beyond IBM: Leadership Marketing and Finance ...            1   \n",
      "...                                                   ...          ...   \n",
      "241066                                      Ã?Â?lpiraten.            2   \n",
      "241067                     Ã?Â?rger mit Produkt X. Roman.            4   \n",
      "241068                                Ã?Â?sterlich leben.            1   \n",
      "241069                              Ã?Â?stlich der Berge.            3   \n",
      "241070                                  Ã?Â?thique en toc            2   \n",
      "\n",
      "        avg_ratings  \n",
      "0          2.250000  \n",
      "1          0.000000  \n",
      "2          0.000000  \n",
      "3          8.000000  \n",
      "4          0.000000  \n",
      "...             ...  \n",
      "241066     0.000000  \n",
      "241067     5.250000  \n",
      "241068     7.000000  \n",
      "241069     2.666667  \n",
      "241070     4.000000  \n",
      "\n",
      "[241071 rows x 3 columns]\n"
     ]
    }
   ],
   "source": [
    "popular_book = num_rating.merge(avg_rating,on='Book-Title')\n",
    "print(popular_book)"
   ]
  },
  {
   "cell_type": "code",
   "execution_count": 13,
   "id": "d757894f",
   "metadata": {},
   "outputs": [],
   "source": [
    "popular_book = popular_book[popular_book['num_ratings']>=500].sort_values('avg_ratings',ascending=False).head(50)\n",
    "popular_book = popular_book.merge(books,on='Book-Title').drop_duplicates('Book-Title')[['Book-Title','Book-Author','Image-URL-M','num_ratings','avg_ratings']]"
   ]
  },
  {
   "cell_type": "code",
   "execution_count": 14,
   "id": "67f6cd2d",
   "metadata": {},
   "outputs": [
    {
     "name": "stdout",
     "output_type": "stream",
     "text": [
      "Number of popular books:  37\n",
      "0      http://images.amazon.com/images/P/0439064872.0...\n",
      "3      http://images.amazon.com/images/P/059035342X.0...\n",
      "5      http://images.amazon.com/images/P/0446310786.0...\n",
      "13     http://images.amazon.com/images/P/0385504209.0...\n",
      "19     http://images.amazon.com/images/P/0316666343.0...\n",
      "20     http://images.amazon.com/images/P/0142001740.0...\n",
      "26     http://images.amazon.com/images/P/0312195516.0...\n",
      "27     http://images.amazon.com/images/P/0452282152.0...\n",
      "28     http://images.amazon.com/images/P/0446672211.0...\n",
      "29     http://images.amazon.com/images/P/0151008116.0...\n",
      "33     http://images.amazon.com/images/P/0345417623.0...\n",
      "40     http://images.amazon.com/images/P/0671027360.0...\n",
      "45     http://images.amazon.com/images/P/0316601950.0...\n",
      "46     http://images.amazon.com/images/P/0446610038.0...\n",
      "48     http://images.amazon.com/images/P/0446605239.0...\n",
      "53     http://images.amazon.com/images/P/0345337662.0...\n",
      "55     http://images.amazon.com/images/P/0312278586.0...\n",
      "57     http://images.amazon.com/images/P/0330332775.0...\n",
      "63     http://images.amazon.com/images/P/0060928336.0...\n",
      "66     http://images.amazon.com/images/P/0440241073.0...\n",
      "70     http://images.amazon.com/images/P/0385324057.0...\n",
      "74     http://images.amazon.com/images/P/0151001006.0...\n",
      "81     http://images.amazon.com/images/P/044023722X.0...\n",
      "86     http://images.amazon.com/images/P/0440234743.0...\n",
      "93     http://images.amazon.com/images/P/0140293248.0...\n",
      "97     http://images.amazon.com/images/P/0440211727.0...\n",
      "104    http://images.amazon.com/images/P/0385416342.0...\n",
      "111    http://images.amazon.com/images/P/0804106304.0...\n",
      "114    http://images.amazon.com/images/P/0375727345.0...\n",
      "116    http://images.amazon.com/images/P/0385424728.0...\n",
      "121    http://images.amazon.com/images/P/044022165X.0...\n",
      "128    http://images.amazon.com/images/P/0440221471.0...\n",
      "134    http://images.amazon.com/images/P/0440225701.0...\n",
      "139    http://images.amazon.com/images/P/0385497466.0...\n",
      "144    http://images.amazon.com/images/P/0440222656.0...\n",
      "148    http://images.amazon.com/images/P/0440214041.0...\n",
      "151    http://images.amazon.com/images/P/0971880107.0...\n",
      "Name: Image-URL-M, dtype: object\n"
     ]
    }
   ],
   "source": [
    "print(\"Number of popular books: \", popular_book['Image-URL-M'].shape[0])\n",
    "print(popular_book['Image-URL-M'])\n",
    "# Shown below is the books where it has been rated over 500 times"
   ]
  },
  {
   "cell_type": "code",
   "execution_count": null,
   "id": "96b59e70",
   "metadata": {},
   "outputs": [],
   "source": []
  }
 ],
 "metadata": {
  "kernelspec": {
   "display_name": "Python 3 (ipykernel)",
   "language": "python",
   "name": "python3"
  },
  "language_info": {
   "codemirror_mode": {
    "name": "ipython",
    "version": 3
   },
   "file_extension": ".py",
   "mimetype": "text/x-python",
   "name": "python",
   "nbconvert_exporter": "python",
   "pygments_lexer": "ipython3",
   "version": "3.9.7"
  }
 },
 "nbformat": 4,
 "nbformat_minor": 5
}
